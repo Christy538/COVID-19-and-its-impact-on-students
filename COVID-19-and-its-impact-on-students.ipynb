{
  "nbformat": 4,
  "nbformat_minor": 0,
  "metadata": {
    "colab": {
      "name": "zerotopandas-course-project.ipynb",
      "provenance": [],
      "include_colab_link": true
    },
    "language_info": {
      "name": "python"
    },
    "kernelspec": {
      "name": "python3",
      "display_name": "Python 3"
    }
  },
  "cells": [
    {
      "cell_type": "markdown",
      "metadata": {
        "id": "view-in-github",
        "colab_type": "text"
      },
      "source": [
        "<a href=\"https://colab.research.google.com/github/Christy538/COVID-19-and-its-impact-on-students/blob/main/COVID-19-and-its-impact-on-students.ipynb\" target=\"_parent\"><img src=\"https://colab.research.google.com/assets/colab-badge.svg\" alt=\"Open In Colab\"/></a>"
      ]
    },
    {
      "cell_type": "markdown",
      "metadata": {
        "id": "TjysWNtehFhM"
      },
      "source": [
        "# **COVID-19 and its impact on students**\n",
        "\n",
        "\n",
        "### **COVID-19 and its impact on education, social life and mental health of students**\n",
        "\n",
        "In this project, we'll analyze the **COVID-19 and its Impact on Students** survey dataset. The dataset used for this analysis was taken from: https://www.kaggle.com/kunal28chaturvedi/covid19-and-its-impact-on-students . In this study, a cross-sectional survey is conducted with a sample size of 1182 students of different age groups from different educational institutions in Delhi National Capital Region (NCR). \n",
        "\n",
        "This project was done as a part of the course project for [Data Analysis with Python: Zero to Pandas](https://jovian.ai/learn/data-analysis-with-python-zero-to-pandas) ,  a practical and beginner-friendly introductory course to data analysis covering the basics of Python, Numpy, Pandas, Data Visualization, and Exploratory Data Analysis."
      ]
    },
    {
      "cell_type": "markdown",
      "metadata": {
        "id": "dPUzqke9hFhN"
      },
      "source": [
        "### **Downloading the Dataset**\n",
        "\n",
        " We'll use the `opendatasets` library to download the files."
      ]
    },
    {
      "cell_type": "code",
      "metadata": {
        "colab": {
          "base_uri": "https://localhost:8080/"
        },
        "id": "MsHR7QCFhFhO",
        "outputId": "1f07eb21-02f5-4d86-cf39-ba2df4f091ac"
      },
      "source": [
        "pip install opendatasets --upgrade"
      ],
      "execution_count": null,
      "outputs": [
        {
          "output_type": "stream",
          "name": "stdout",
          "text": [
            "Collecting opendatasets\n",
            "  Downloading opendatasets-0.1.20-py3-none-any.whl (14 kB)\n",
            "Requirement already satisfied: kaggle in /usr/local/lib/python3.7/dist-packages (from opendatasets) (1.5.12)\n",
            "Requirement already satisfied: tqdm in /usr/local/lib/python3.7/dist-packages (from opendatasets) (4.62.0)\n",
            "Requirement already satisfied: click in /usr/local/lib/python3.7/dist-packages (from opendatasets) (7.1.2)\n",
            "Requirement already satisfied: certifi in /usr/local/lib/python3.7/dist-packages (from kaggle->opendatasets) (2021.5.30)\n",
            "Requirement already satisfied: six>=1.10 in /usr/local/lib/python3.7/dist-packages (from kaggle->opendatasets) (1.15.0)\n",
            "Requirement already satisfied: urllib3 in /usr/local/lib/python3.7/dist-packages (from kaggle->opendatasets) (1.24.3)\n",
            "Requirement already satisfied: requests in /usr/local/lib/python3.7/dist-packages (from kaggle->opendatasets) (2.23.0)\n",
            "Requirement already satisfied: python-slugify in /usr/local/lib/python3.7/dist-packages (from kaggle->opendatasets) (5.0.2)\n",
            "Requirement already satisfied: python-dateutil in /usr/local/lib/python3.7/dist-packages (from kaggle->opendatasets) (2.8.2)\n",
            "Requirement already satisfied: text-unidecode>=1.3 in /usr/local/lib/python3.7/dist-packages (from python-slugify->kaggle->opendatasets) (1.3)\n",
            "Requirement already satisfied: idna<3,>=2.5 in /usr/local/lib/python3.7/dist-packages (from requests->kaggle->opendatasets) (2.10)\n",
            "Requirement already satisfied: chardet<4,>=3.0.2 in /usr/local/lib/python3.7/dist-packages (from requests->kaggle->opendatasets) (3.0.4)\n",
            "Installing collected packages: opendatasets\n",
            "Successfully installed opendatasets-0.1.20\n"
          ]
        }
      ]
    },
    {
      "cell_type": "markdown",
      "metadata": {
        "id": "YBjqMFY5hFhO"
      },
      "source": [
        "Let's begin by downloading the data, and listing the files within the dataset."
      ]
    },
    {
      "cell_type": "code",
      "metadata": {
        "id": "dpkm1vVnhFhO"
      },
      "source": [
        "dataset_url = 'https://www.kaggle.com/kunal28chaturvedi/covid19-and-its-impact-on-students?rvi=1' "
      ],
      "execution_count": null,
      "outputs": []
    },
    {
      "cell_type": "code",
      "metadata": {
        "scrolled": true,
        "colab": {
          "base_uri": "https://localhost:8080/"
        },
        "id": "I7SXz4LLhFhP",
        "outputId": "70d9bb16-9f91-487a-eeb0-48058424a8f1"
      },
      "source": [
        "import opendatasets as od\n",
        "od.download(dataset_url, force=True)"
      ],
      "execution_count": null,
      "outputs": [
        {
          "output_type": "stream",
          "name": "stdout",
          "text": [
            "Please provide your Kaggle credentials to download this dataset. Learn more: http://bit.ly/kaggle-creds\n",
            "Your Kaggle username: christythomas5\n",
            "Your Kaggle Key: ··········\n",
            "Downloading covid19-and-its-impact-on-students.zip to ./covid19-and-its-impact-on-students\n"
          ]
        },
        {
          "output_type": "stream",
          "name": "stderr",
          "text": [
            "100%|██████████| 20.8k/20.8k [00:00<00:00, 13.9MB/s]"
          ]
        },
        {
          "output_type": "stream",
          "name": "stdout",
          "text": [
            "\n"
          ]
        },
        {
          "output_type": "stream",
          "name": "stderr",
          "text": [
            "\n"
          ]
        }
      ]
    },
    {
      "cell_type": "markdown",
      "metadata": {
        "id": "tBfV0pzjhFhP"
      },
      "source": [
        "The dataset has been downloaded and extracted."
      ]
    },
    {
      "cell_type": "code",
      "metadata": {
        "id": "vUX0__iFhFhP"
      },
      "source": [
        "data_dir = './covid19-and-its-impact-on-students'"
      ],
      "execution_count": null,
      "outputs": []
    },
    {
      "cell_type": "code",
      "metadata": {
        "colab": {
          "base_uri": "https://localhost:8080/"
        },
        "id": "lY5GY-PqhFhP",
        "outputId": "73300c3b-bd1b-4304-cc75-e01d77854028"
      },
      "source": [
        "import os\n",
        "os.listdir(data_dir)"
      ],
      "execution_count": null,
      "outputs": [
        {
          "output_type": "execute_result",
          "data": {
            "text/plain": [
              "['COVID-19 Survey Student Responses.csv']"
            ]
          },
          "metadata": {},
          "execution_count": 9
        }
      ]
    },
    {
      "cell_type": "markdown",
      "metadata": {
        "id": "kQ8tFGJvhFhR"
      },
      "source": [
        "## **Data Preparation and Cleaning**\n",
        "\n",
        "\n"
      ]
    },
    {
      "cell_type": "markdown",
      "metadata": {
        "id": "w8Z2a_FurBBy"
      },
      "source": [
        "Let's load the CSV file using the Pandas library. We'll use the name `survey_raw_df` for the data frame to indicate this is unprocessed data that we might clean, filter, and modify to prepare a data frame ready for analysis."
      ]
    },
    {
      "cell_type": "code",
      "metadata": {
        "id": "12UQYrn7hFhR"
      },
      "source": [
        "import pandas as pd"
      ],
      "execution_count": null,
      "outputs": []
    },
    {
      "cell_type": "code",
      "metadata": {
        "id": "uX4NjYEBhFhS"
      },
      "source": [
        "survey_raw_df = pd.read_csv('covid19-and-its-impact-on-students/COVID-19 Survey Student Responses.csv')"
      ],
      "execution_count": null,
      "outputs": []
    },
    {
      "cell_type": "code",
      "metadata": {
        "colab": {
          "base_uri": "https://localhost:8080/",
          "height": 790
        },
        "id": "J28Hl_XchFhS",
        "outputId": "024b2d4a-bad9-49d2-ed41-6a15d3433806"
      },
      "source": [
        "survey_raw_df"
      ],
      "execution_count": null,
      "outputs": [
        {
          "output_type": "execute_result",
          "data": {
            "text/html": [
              "<div>\n",
              "<style scoped>\n",
              "    .dataframe tbody tr th:only-of-type {\n",
              "        vertical-align: middle;\n",
              "    }\n",
              "\n",
              "    .dataframe tbody tr th {\n",
              "        vertical-align: top;\n",
              "    }\n",
              "\n",
              "    .dataframe thead th {\n",
              "        text-align: right;\n",
              "    }\n",
              "</style>\n",
              "<table border=\"1\" class=\"dataframe\">\n",
              "  <thead>\n",
              "    <tr style=\"text-align: right;\">\n",
              "      <th></th>\n",
              "      <th>ID</th>\n",
              "      <th>Region of residence</th>\n",
              "      <th>Age of Subject</th>\n",
              "      <th>Time spent on Online Class</th>\n",
              "      <th>Rating of Online Class experience</th>\n",
              "      <th>Medium for online class</th>\n",
              "      <th>Time spent on self study</th>\n",
              "      <th>Time spent on fitness</th>\n",
              "      <th>Time spent on sleep</th>\n",
              "      <th>Time spent on social media</th>\n",
              "      <th>Prefered social media platform</th>\n",
              "      <th>Time spent on TV</th>\n",
              "      <th>Number of meals per day</th>\n",
              "      <th>Change in your weight</th>\n",
              "      <th>Health issue during lockdown</th>\n",
              "      <th>Stress busters</th>\n",
              "      <th>Time utilized</th>\n",
              "      <th>Do you find yourself more connected with your family, close friends , relatives  ?</th>\n",
              "      <th>What you miss the most</th>\n",
              "    </tr>\n",
              "  </thead>\n",
              "  <tbody>\n",
              "    <tr>\n",
              "      <th>0</th>\n",
              "      <td>R1</td>\n",
              "      <td>Delhi-NCR</td>\n",
              "      <td>21</td>\n",
              "      <td>2.0</td>\n",
              "      <td>Good</td>\n",
              "      <td>Laptop/Desktop</td>\n",
              "      <td>4.0</td>\n",
              "      <td>0.0</td>\n",
              "      <td>7.0</td>\n",
              "      <td>3.0</td>\n",
              "      <td>Linkedin</td>\n",
              "      <td>1</td>\n",
              "      <td>4</td>\n",
              "      <td>Increased</td>\n",
              "      <td>NO</td>\n",
              "      <td>Cooking</td>\n",
              "      <td>YES</td>\n",
              "      <td>YES</td>\n",
              "      <td>School/college</td>\n",
              "    </tr>\n",
              "    <tr>\n",
              "      <th>1</th>\n",
              "      <td>R2</td>\n",
              "      <td>Delhi-NCR</td>\n",
              "      <td>21</td>\n",
              "      <td>0.0</td>\n",
              "      <td>Excellent</td>\n",
              "      <td>Smartphone</td>\n",
              "      <td>0.0</td>\n",
              "      <td>2.0</td>\n",
              "      <td>10.0</td>\n",
              "      <td>3.0</td>\n",
              "      <td>Youtube</td>\n",
              "      <td>0</td>\n",
              "      <td>3</td>\n",
              "      <td>Decreased</td>\n",
              "      <td>NO</td>\n",
              "      <td>Scrolling through social media</td>\n",
              "      <td>YES</td>\n",
              "      <td>NO</td>\n",
              "      <td>Roaming around freely</td>\n",
              "    </tr>\n",
              "    <tr>\n",
              "      <th>2</th>\n",
              "      <td>R3</td>\n",
              "      <td>Delhi-NCR</td>\n",
              "      <td>20</td>\n",
              "      <td>7.0</td>\n",
              "      <td>Very poor</td>\n",
              "      <td>Laptop/Desktop</td>\n",
              "      <td>3.0</td>\n",
              "      <td>0.0</td>\n",
              "      <td>6.0</td>\n",
              "      <td>2.0</td>\n",
              "      <td>Linkedin</td>\n",
              "      <td>0</td>\n",
              "      <td>3</td>\n",
              "      <td>Remain Constant</td>\n",
              "      <td>NO</td>\n",
              "      <td>Listening to music</td>\n",
              "      <td>NO</td>\n",
              "      <td>YES</td>\n",
              "      <td>Travelling</td>\n",
              "    </tr>\n",
              "    <tr>\n",
              "      <th>3</th>\n",
              "      <td>R4</td>\n",
              "      <td>Delhi-NCR</td>\n",
              "      <td>20</td>\n",
              "      <td>3.0</td>\n",
              "      <td>Very poor</td>\n",
              "      <td>Smartphone</td>\n",
              "      <td>2.0</td>\n",
              "      <td>1.0</td>\n",
              "      <td>6.0</td>\n",
              "      <td>5.0</td>\n",
              "      <td>Instagram</td>\n",
              "      <td>0</td>\n",
              "      <td>3</td>\n",
              "      <td>Decreased</td>\n",
              "      <td>NO</td>\n",
              "      <td>Watching web series</td>\n",
              "      <td>NO</td>\n",
              "      <td>NO</td>\n",
              "      <td>Friends , relatives</td>\n",
              "    </tr>\n",
              "    <tr>\n",
              "      <th>4</th>\n",
              "      <td>R5</td>\n",
              "      <td>Delhi-NCR</td>\n",
              "      <td>21</td>\n",
              "      <td>3.0</td>\n",
              "      <td>Good</td>\n",
              "      <td>Laptop/Desktop</td>\n",
              "      <td>3.0</td>\n",
              "      <td>1.0</td>\n",
              "      <td>8.0</td>\n",
              "      <td>3.0</td>\n",
              "      <td>Instagram</td>\n",
              "      <td>1</td>\n",
              "      <td>4</td>\n",
              "      <td>Remain Constant</td>\n",
              "      <td>NO</td>\n",
              "      <td>Social Media</td>\n",
              "      <td>NO</td>\n",
              "      <td>NO</td>\n",
              "      <td>Travelling</td>\n",
              "    </tr>\n",
              "    <tr>\n",
              "      <th>...</th>\n",
              "      <td>...</td>\n",
              "      <td>...</td>\n",
              "      <td>...</td>\n",
              "      <td>...</td>\n",
              "      <td>...</td>\n",
              "      <td>...</td>\n",
              "      <td>...</td>\n",
              "      <td>...</td>\n",
              "      <td>...</td>\n",
              "      <td>...</td>\n",
              "      <td>...</td>\n",
              "      <td>...</td>\n",
              "      <td>...</td>\n",
              "      <td>...</td>\n",
              "      <td>...</td>\n",
              "      <td>...</td>\n",
              "      <td>...</td>\n",
              "      <td>...</td>\n",
              "      <td>...</td>\n",
              "    </tr>\n",
              "    <tr>\n",
              "      <th>1177</th>\n",
              "      <td>R1191</td>\n",
              "      <td>Delhi-NCR</td>\n",
              "      <td>12</td>\n",
              "      <td>3.0</td>\n",
              "      <td>Good</td>\n",
              "      <td>Smartphone</td>\n",
              "      <td>4.0</td>\n",
              "      <td>1.0</td>\n",
              "      <td>8.0</td>\n",
              "      <td>1.0</td>\n",
              "      <td>Instagram</td>\n",
              "      <td>2</td>\n",
              "      <td>3</td>\n",
              "      <td>Decreased</td>\n",
              "      <td>NO</td>\n",
              "      <td>Dancing</td>\n",
              "      <td>YES</td>\n",
              "      <td>YES</td>\n",
              "      <td>Travelling</td>\n",
              "    </tr>\n",
              "    <tr>\n",
              "      <th>1178</th>\n",
              "      <td>R1192</td>\n",
              "      <td>Delhi-NCR</td>\n",
              "      <td>14</td>\n",
              "      <td>6.0</td>\n",
              "      <td>Average</td>\n",
              "      <td>Smartphone</td>\n",
              "      <td>4.0</td>\n",
              "      <td>1.0</td>\n",
              "      <td>9.0</td>\n",
              "      <td>1.0</td>\n",
              "      <td>Whatsapp</td>\n",
              "      <td>1</td>\n",
              "      <td>4</td>\n",
              "      <td>Remain Constant</td>\n",
              "      <td>NO</td>\n",
              "      <td>Listening to music</td>\n",
              "      <td>YES</td>\n",
              "      <td>YES</td>\n",
              "      <td>Friends , relatives</td>\n",
              "    </tr>\n",
              "    <tr>\n",
              "      <th>1179</th>\n",
              "      <td>R1193</td>\n",
              "      <td>Delhi-NCR</td>\n",
              "      <td>13</td>\n",
              "      <td>4.0</td>\n",
              "      <td>Average</td>\n",
              "      <td>Smartphone</td>\n",
              "      <td>0.0</td>\n",
              "      <td>0.5</td>\n",
              "      <td>8.0</td>\n",
              "      <td>3.0</td>\n",
              "      <td>Youtube</td>\n",
              "      <td>2</td>\n",
              "      <td>4</td>\n",
              "      <td>Decreased</td>\n",
              "      <td>NO</td>\n",
              "      <td>Online gaming</td>\n",
              "      <td>NO</td>\n",
              "      <td>YES</td>\n",
              "      <td>School/college</td>\n",
              "    </tr>\n",
              "    <tr>\n",
              "      <th>1180</th>\n",
              "      <td>R1194</td>\n",
              "      <td>Delhi-NCR</td>\n",
              "      <td>14</td>\n",
              "      <td>5.0</td>\n",
              "      <td>Excellent</td>\n",
              "      <td>Laptop/Desktop</td>\n",
              "      <td>3.5</td>\n",
              "      <td>1.0</td>\n",
              "      <td>8.0</td>\n",
              "      <td>0.5</td>\n",
              "      <td>Youtube</td>\n",
              "      <td>1</td>\n",
              "      <td>4</td>\n",
              "      <td>Remain Constant</td>\n",
              "      <td>NO</td>\n",
              "      <td>Reading books</td>\n",
              "      <td>YES</td>\n",
              "      <td>YES</td>\n",
              "      <td>School/college</td>\n",
              "    </tr>\n",
              "    <tr>\n",
              "      <th>1181</th>\n",
              "      <td>R1195</td>\n",
              "      <td>Delhi-NCR</td>\n",
              "      <td>13</td>\n",
              "      <td>5.0</td>\n",
              "      <td>Good</td>\n",
              "      <td>Tablet</td>\n",
              "      <td>2.0</td>\n",
              "      <td>0.5</td>\n",
              "      <td>7.0</td>\n",
              "      <td>1.0</td>\n",
              "      <td>Whatsapp</td>\n",
              "      <td>1</td>\n",
              "      <td>3</td>\n",
              "      <td>Remain Constant</td>\n",
              "      <td>NO</td>\n",
              "      <td>Talking</td>\n",
              "      <td>YES</td>\n",
              "      <td>YES</td>\n",
              "      <td>School/college</td>\n",
              "    </tr>\n",
              "  </tbody>\n",
              "</table>\n",
              "<p>1182 rows × 19 columns</p>\n",
              "</div>"
            ],
            "text/plain": [
              "         ID  ... What you miss the most\n",
              "0        R1  ...         School/college\n",
              "1        R2  ...  Roaming around freely\n",
              "2        R3  ...             Travelling\n",
              "3        R4  ...    Friends , relatives\n",
              "4        R5  ...             Travelling\n",
              "...     ...  ...                    ...\n",
              "1177  R1191  ...             Travelling\n",
              "1178  R1192  ...    Friends , relatives\n",
              "1179  R1193  ...         School/college\n",
              "1180  R1194  ...         School/college\n",
              "1181  R1195  ...         School/college\n",
              "\n",
              "[1182 rows x 19 columns]"
            ]
          },
          "metadata": {},
          "execution_count": 12
        }
      ]
    },
    {
      "cell_type": "markdown",
      "metadata": {
        "id": "FrJ9MZ67st9X"
      },
      "source": [
        "Let's now view some basic statistics about numeric columns."
      ]
    },
    {
      "cell_type": "code",
      "metadata": {
        "colab": {
          "base_uri": "https://localhost:8080/"
        },
        "id": "dq-qzHwIswON",
        "outputId": "8c00cba8-cc0a-47b3-cdf5-3e8e91074317"
      },
      "source": [
        "survey_raw_df.shape"
      ],
      "execution_count": null,
      "outputs": [
        {
          "output_type": "execute_result",
          "data": {
            "text/plain": [
              "(1182, 19)"
            ]
          },
          "metadata": {},
          "execution_count": 13
        }
      ]
    },
    {
      "cell_type": "markdown",
      "metadata": {
        "id": "WDIoaFjwrdQa"
      },
      "source": [
        "The dataset contains 1182 responses to 19 questions. The responses have been anonymized to remove personally identifiable information, and each respondent has been assigned a randomized respondent ID.\n",
        "\n",
        "Let's view the list of columns in the data frame using `survey_raw_df.columns`. "
      ]
    },
    {
      "cell_type": "code",
      "metadata": {
        "colab": {
          "base_uri": "https://localhost:8080/"
        },
        "id": "WzDvOKckhFhT",
        "outputId": "830141e5-3a6d-4f65-96fe-c42e1f5b2cab"
      },
      "source": [
        "survey_raw_df.columns"
      ],
      "execution_count": null,
      "outputs": [
        {
          "output_type": "execute_result",
          "data": {
            "text/plain": [
              "Index(['ID', 'Region of residence', 'Age of Subject',\n",
              "       'Time spent on Online Class', 'Rating of Online Class experience',\n",
              "       'Medium for online class', 'Time spent on self study',\n",
              "       'Time spent on fitness', 'Time spent on sleep',\n",
              "       'Time spent on social media', 'Prefered social media platform',\n",
              "       'Time spent on TV', 'Number of meals per day', 'Change in your weight',\n",
              "       'Health issue during lockdown', 'Stress busters', 'Time utilized',\n",
              "       'Do you find yourself more connected with your family, close friends , relatives  ?',\n",
              "       'What you miss the most'],\n",
              "      dtype='object')"
            ]
          },
          "metadata": {},
          "execution_count": 14
        }
      ]
    },
    {
      "cell_type": "code",
      "metadata": {
        "colab": {
          "base_uri": "https://localhost:8080/",
          "height": 295
        },
        "id": "1PVrICNQhFhT",
        "outputId": "a0a8000a-f4dd-4f7a-eb4e-c24fff735938"
      },
      "source": [
        "survey_raw_df.describe()"
      ],
      "execution_count": null,
      "outputs": [
        {
          "output_type": "execute_result",
          "data": {
            "text/html": [
              "<div>\n",
              "<style scoped>\n",
              "    .dataframe tbody tr th:only-of-type {\n",
              "        vertical-align: middle;\n",
              "    }\n",
              "\n",
              "    .dataframe tbody tr th {\n",
              "        vertical-align: top;\n",
              "    }\n",
              "\n",
              "    .dataframe thead th {\n",
              "        text-align: right;\n",
              "    }\n",
              "</style>\n",
              "<table border=\"1\" class=\"dataframe\">\n",
              "  <thead>\n",
              "    <tr style=\"text-align: right;\">\n",
              "      <th></th>\n",
              "      <th>Age of Subject</th>\n",
              "      <th>Time spent on Online Class</th>\n",
              "      <th>Time spent on self study</th>\n",
              "      <th>Time spent on fitness</th>\n",
              "      <th>Time spent on sleep</th>\n",
              "      <th>Time spent on social media</th>\n",
              "      <th>Number of meals per day</th>\n",
              "    </tr>\n",
              "  </thead>\n",
              "  <tbody>\n",
              "    <tr>\n",
              "      <th>count</th>\n",
              "      <td>1182.000000</td>\n",
              "      <td>1182.000000</td>\n",
              "      <td>1182.000000</td>\n",
              "      <td>1182.000000</td>\n",
              "      <td>1182.000000</td>\n",
              "      <td>1182.000000</td>\n",
              "      <td>1182.000000</td>\n",
              "    </tr>\n",
              "    <tr>\n",
              "      <th>mean</th>\n",
              "      <td>20.165821</td>\n",
              "      <td>3.208841</td>\n",
              "      <td>2.911591</td>\n",
              "      <td>0.765821</td>\n",
              "      <td>7.871235</td>\n",
              "      <td>2.365694</td>\n",
              "      <td>2.917936</td>\n",
              "    </tr>\n",
              "    <tr>\n",
              "      <th>std</th>\n",
              "      <td>5.516467</td>\n",
              "      <td>2.101756</td>\n",
              "      <td>2.140590</td>\n",
              "      <td>0.724451</td>\n",
              "      <td>1.615762</td>\n",
              "      <td>1.767336</td>\n",
              "      <td>0.828698</td>\n",
              "    </tr>\n",
              "    <tr>\n",
              "      <th>min</th>\n",
              "      <td>7.000000</td>\n",
              "      <td>0.000000</td>\n",
              "      <td>0.000000</td>\n",
              "      <td>0.000000</td>\n",
              "      <td>4.000000</td>\n",
              "      <td>0.000000</td>\n",
              "      <td>1.000000</td>\n",
              "    </tr>\n",
              "    <tr>\n",
              "      <th>25%</th>\n",
              "      <td>17.000000</td>\n",
              "      <td>2.000000</td>\n",
              "      <td>2.000000</td>\n",
              "      <td>0.000000</td>\n",
              "      <td>7.000000</td>\n",
              "      <td>1.000000</td>\n",
              "      <td>2.000000</td>\n",
              "    </tr>\n",
              "    <tr>\n",
              "      <th>50%</th>\n",
              "      <td>20.000000</td>\n",
              "      <td>3.000000</td>\n",
              "      <td>2.000000</td>\n",
              "      <td>1.000000</td>\n",
              "      <td>8.000000</td>\n",
              "      <td>2.000000</td>\n",
              "      <td>3.000000</td>\n",
              "    </tr>\n",
              "    <tr>\n",
              "      <th>75%</th>\n",
              "      <td>21.000000</td>\n",
              "      <td>5.000000</td>\n",
              "      <td>4.000000</td>\n",
              "      <td>1.000000</td>\n",
              "      <td>9.000000</td>\n",
              "      <td>3.000000</td>\n",
              "      <td>3.000000</td>\n",
              "    </tr>\n",
              "    <tr>\n",
              "      <th>max</th>\n",
              "      <td>59.000000</td>\n",
              "      <td>10.000000</td>\n",
              "      <td>18.000000</td>\n",
              "      <td>5.000000</td>\n",
              "      <td>15.000000</td>\n",
              "      <td>10.000000</td>\n",
              "      <td>8.000000</td>\n",
              "    </tr>\n",
              "  </tbody>\n",
              "</table>\n",
              "</div>"
            ],
            "text/plain": [
              "       Age of Subject  ...  Number of meals per day\n",
              "count     1182.000000  ...              1182.000000\n",
              "mean        20.165821  ...                 2.917936\n",
              "std          5.516467  ...                 0.828698\n",
              "min          7.000000  ...                 1.000000\n",
              "25%         17.000000  ...                 2.000000\n",
              "50%         20.000000  ...                 3.000000\n",
              "75%         21.000000  ...                 3.000000\n",
              "max         59.000000  ...                 8.000000\n",
              "\n",
              "[8 rows x 7 columns]"
            ]
          },
          "metadata": {},
          "execution_count": 15
        }
      ]
    },
    {
      "cell_type": "markdown",
      "metadata": {
        "id": "0LAQxnrc2dqd"
      },
      "source": [
        "Our data seems to be clean because there are not negative minimum values and maximum values too make some sense, not much higher values are present."
      ]
    },
    {
      "cell_type": "code",
      "metadata": {
        "colab": {
          "base_uri": "https://localhost:8080/"
        },
        "id": "AtRrW-aot6Fg",
        "outputId": "fc47b0e8-e6b3-4066-a6aa-c419e47bee68"
      },
      "source": [
        "survey_raw_df.nunique()"
      ],
      "execution_count": null,
      "outputs": [
        {
          "output_type": "execute_result",
          "data": {
            "text/plain": [
              "ID                                                                                    1182\n",
              "Region of residence                                                                      2\n",
              "Age of Subject                                                                          42\n",
              "Time spent on Online Class                                                              21\n",
              "Rating of Online Class experience                                                        5\n",
              "Medium for online class                                                                  5\n",
              "Time spent on self study                                                                23\n",
              "Time spent on fitness                                                                   11\n",
              "Time spent on sleep                                                                     18\n",
              "Time spent on social media                                                              22\n",
              "Prefered social media platform                                                          16\n",
              "Time spent on TV                                                                        25\n",
              "Number of meals per day                                                                  8\n",
              "Change in your weight                                                                    3\n",
              "Health issue during lockdown                                                             2\n",
              "Stress busters                                                                          86\n",
              "Time utilized                                                                            2\n",
              "Do you find yourself more connected with your family, close friends , relatives  ?       2\n",
              "What you miss the most                                                                  51\n",
              "dtype: int64"
            ]
          },
          "metadata": {},
          "execution_count": 16
        }
      ]
    },
    {
      "cell_type": "code",
      "metadata": {
        "colab": {
          "base_uri": "https://localhost:8080/"
        },
        "id": "wtmw-GAlhFhS",
        "outputId": "555423e4-f87c-424c-c808-8e8163e44029"
      },
      "source": [
        "survey_raw_df.info()"
      ],
      "execution_count": null,
      "outputs": [
        {
          "output_type": "stream",
          "name": "stdout",
          "text": [
            "<class 'pandas.core.frame.DataFrame'>\n",
            "RangeIndex: 1182 entries, 0 to 1181\n",
            "Data columns (total 19 columns):\n",
            " #   Column                                                                              Non-Null Count  Dtype  \n",
            "---  ------                                                                              --------------  -----  \n",
            " 0   ID                                                                                  1182 non-null   object \n",
            " 1   Region of residence                                                                 1182 non-null   object \n",
            " 2   Age of Subject                                                                      1182 non-null   int64  \n",
            " 3   Time spent on Online Class                                                          1182 non-null   float64\n",
            " 4   Rating of Online Class experience                                                   1158 non-null   object \n",
            " 5   Medium for online class                                                             1131 non-null   object \n",
            " 6   Time spent on self study                                                            1182 non-null   float64\n",
            " 7   Time spent on fitness                                                               1182 non-null   float64\n",
            " 8   Time spent on sleep                                                                 1182 non-null   float64\n",
            " 9   Time spent on social media                                                          1182 non-null   float64\n",
            " 10  Prefered social media platform                                                      1182 non-null   object \n",
            " 11  Time spent on TV                                                                    1182 non-null   object \n",
            " 12  Number of meals per day                                                             1182 non-null   int64  \n",
            " 13  Change in your weight                                                               1182 non-null   object \n",
            " 14  Health issue during lockdown                                                        1182 non-null   object \n",
            " 15  Stress busters                                                                      1182 non-null   object \n",
            " 16  Time utilized                                                                       1182 non-null   object \n",
            " 17  Do you find yourself more connected with your family, close friends , relatives  ?  1182 non-null   object \n",
            " 18  What you miss the most                                                              1182 non-null   object \n",
            "dtypes: float64(5), int64(2), object(12)\n",
            "memory usage: 175.6+ KB\n"
          ]
        }
      ]
    },
    {
      "cell_type": "markdown",
      "metadata": {
        "id": "CmpJV1wThFhS"
      },
      "source": [
        "Most columns have the data type `object`, either because they contain values of different types or contain empty values (`NaN`). It appears that some columns contains some empty values since the Non-Null count for every column is lower than the total number of rows (1182).\n"
      ]
    },
    {
      "cell_type": "code",
      "metadata": {
        "colab": {
          "base_uri": "https://localhost:8080/"
        },
        "id": "9T0l93sQuEl7",
        "outputId": "16ec9343-4632-4c48-d09b-76ae40fc4968"
      },
      "source": [
        "survey_raw_df.isna().sum().sort_values(ascending=False).head(5)"
      ],
      "execution_count": null,
      "outputs": [
        {
          "output_type": "execute_result",
          "data": {
            "text/plain": [
              "Medium for online class              51\n",
              "Rating of Online Class experience    24\n",
              "What you miss the most                0\n",
              "Time spent on sleep                   0\n",
              "Region of residence                   0\n",
              "dtype: int64"
            ]
          },
          "metadata": {},
          "execution_count": 18
        }
      ]
    },
    {
      "cell_type": "markdown",
      "metadata": {
        "id": "jfdozDj7vo9l"
      },
      "source": [
        "We have NaN values in two columns. Let's check the percentage of NaN values in these columns."
      ]
    },
    {
      "cell_type": "code",
      "metadata": {
        "id": "cKS1ewYeujtV"
      },
      "source": [
        "perc_nan=survey_raw_df.isna().sum()/len(survey_raw_df)*100"
      ],
      "execution_count": null,
      "outputs": []
    },
    {
      "cell_type": "code",
      "metadata": {
        "colab": {
          "base_uri": "https://localhost:8080/"
        },
        "id": "9rK5O_kEurGZ",
        "outputId": "d7e45d93-6240-48db-a9ac-a9ed6d8b2a0e"
      },
      "source": [
        "perc_nan.sort_values(ascending=False).head(2)"
      ],
      "execution_count": null,
      "outputs": [
        {
          "output_type": "execute_result",
          "data": {
            "text/plain": [
              "Medium for online class              4.314721\n",
              "Rating of Online Class experience    2.030457\n",
              "dtype: float64"
            ]
          },
          "metadata": {},
          "execution_count": 20
        }
      ]
    },
    {
      "cell_type": "markdown",
      "metadata": {
        "id": "8H78XXO5xlrh"
      },
      "source": [
        "Since the percentage of NaN values are very less our dataframe seems good enough for the analysis."
      ]
    },
    {
      "cell_type": "code",
      "metadata": {
        "id": "QRVq34yAhFhT"
      },
      "source": [
        "survey_raw_df.columns = survey_raw_df.columns.str.replace(' ', '_')"
      ],
      "execution_count": null,
      "outputs": []
    },
    {
      "cell_type": "code",
      "metadata": {
        "colab": {
          "base_uri": "https://localhost:8080/",
          "height": 504
        },
        "id": "VJSyxpdihFhT",
        "outputId": "e7c96296-4a94-4303-9d87-cd66d5105888"
      },
      "source": [
        "survey_raw_df"
      ],
      "execution_count": null,
      "outputs": [
        {
          "output_type": "execute_result",
          "data": {
            "text/html": [
              "<div>\n",
              "<style scoped>\n",
              "    .dataframe tbody tr th:only-of-type {\n",
              "        vertical-align: middle;\n",
              "    }\n",
              "\n",
              "    .dataframe tbody tr th {\n",
              "        vertical-align: top;\n",
              "    }\n",
              "\n",
              "    .dataframe thead th {\n",
              "        text-align: right;\n",
              "    }\n",
              "</style>\n",
              "<table border=\"1\" class=\"dataframe\">\n",
              "  <thead>\n",
              "    <tr style=\"text-align: right;\">\n",
              "      <th></th>\n",
              "      <th>ID</th>\n",
              "      <th>Region_of_residence</th>\n",
              "      <th>Age_of_Subject</th>\n",
              "      <th>Time_spent_on_Online_Class</th>\n",
              "      <th>Rating_of_Online_Class_experience</th>\n",
              "      <th>Medium_for_online_class</th>\n",
              "      <th>Time_spent_on_self_study</th>\n",
              "      <th>Time_spent_on_fitness</th>\n",
              "      <th>Time_spent_on_sleep</th>\n",
              "      <th>Time_spent_on_social_media</th>\n",
              "      <th>Prefered_social_media_platform</th>\n",
              "      <th>Time_spent_on_TV</th>\n",
              "      <th>Number_of_meals_per_day</th>\n",
              "      <th>Change_in_your_weight</th>\n",
              "      <th>Health_issue_during_lockdown</th>\n",
              "      <th>Stress_busters</th>\n",
              "      <th>Time_utilized</th>\n",
              "      <th>Do_you_find_yourself_more_connected_with_your_family,_close_friends_,_relatives__?</th>\n",
              "      <th>What_you_miss_the_most</th>\n",
              "    </tr>\n",
              "  </thead>\n",
              "  <tbody>\n",
              "    <tr>\n",
              "      <th>0</th>\n",
              "      <td>R1</td>\n",
              "      <td>Delhi-NCR</td>\n",
              "      <td>21</td>\n",
              "      <td>2.0</td>\n",
              "      <td>Good</td>\n",
              "      <td>Laptop/Desktop</td>\n",
              "      <td>4.0</td>\n",
              "      <td>0.0</td>\n",
              "      <td>7.0</td>\n",
              "      <td>3.0</td>\n",
              "      <td>Linkedin</td>\n",
              "      <td>1</td>\n",
              "      <td>4</td>\n",
              "      <td>Increased</td>\n",
              "      <td>NO</td>\n",
              "      <td>Cooking</td>\n",
              "      <td>YES</td>\n",
              "      <td>YES</td>\n",
              "      <td>School/college</td>\n",
              "    </tr>\n",
              "    <tr>\n",
              "      <th>1</th>\n",
              "      <td>R2</td>\n",
              "      <td>Delhi-NCR</td>\n",
              "      <td>21</td>\n",
              "      <td>0.0</td>\n",
              "      <td>Excellent</td>\n",
              "      <td>Smartphone</td>\n",
              "      <td>0.0</td>\n",
              "      <td>2.0</td>\n",
              "      <td>10.0</td>\n",
              "      <td>3.0</td>\n",
              "      <td>Youtube</td>\n",
              "      <td>0</td>\n",
              "      <td>3</td>\n",
              "      <td>Decreased</td>\n",
              "      <td>NO</td>\n",
              "      <td>Scrolling through social media</td>\n",
              "      <td>YES</td>\n",
              "      <td>NO</td>\n",
              "      <td>Roaming around freely</td>\n",
              "    </tr>\n",
              "    <tr>\n",
              "      <th>2</th>\n",
              "      <td>R3</td>\n",
              "      <td>Delhi-NCR</td>\n",
              "      <td>20</td>\n",
              "      <td>7.0</td>\n",
              "      <td>Very poor</td>\n",
              "      <td>Laptop/Desktop</td>\n",
              "      <td>3.0</td>\n",
              "      <td>0.0</td>\n",
              "      <td>6.0</td>\n",
              "      <td>2.0</td>\n",
              "      <td>Linkedin</td>\n",
              "      <td>0</td>\n",
              "      <td>3</td>\n",
              "      <td>Remain Constant</td>\n",
              "      <td>NO</td>\n",
              "      <td>Listening to music</td>\n",
              "      <td>NO</td>\n",
              "      <td>YES</td>\n",
              "      <td>Travelling</td>\n",
              "    </tr>\n",
              "    <tr>\n",
              "      <th>3</th>\n",
              "      <td>R4</td>\n",
              "      <td>Delhi-NCR</td>\n",
              "      <td>20</td>\n",
              "      <td>3.0</td>\n",
              "      <td>Very poor</td>\n",
              "      <td>Smartphone</td>\n",
              "      <td>2.0</td>\n",
              "      <td>1.0</td>\n",
              "      <td>6.0</td>\n",
              "      <td>5.0</td>\n",
              "      <td>Instagram</td>\n",
              "      <td>0</td>\n",
              "      <td>3</td>\n",
              "      <td>Decreased</td>\n",
              "      <td>NO</td>\n",
              "      <td>Watching web series</td>\n",
              "      <td>NO</td>\n",
              "      <td>NO</td>\n",
              "      <td>Friends , relatives</td>\n",
              "    </tr>\n",
              "    <tr>\n",
              "      <th>4</th>\n",
              "      <td>R5</td>\n",
              "      <td>Delhi-NCR</td>\n",
              "      <td>21</td>\n",
              "      <td>3.0</td>\n",
              "      <td>Good</td>\n",
              "      <td>Laptop/Desktop</td>\n",
              "      <td>3.0</td>\n",
              "      <td>1.0</td>\n",
              "      <td>8.0</td>\n",
              "      <td>3.0</td>\n",
              "      <td>Instagram</td>\n",
              "      <td>1</td>\n",
              "      <td>4</td>\n",
              "      <td>Remain Constant</td>\n",
              "      <td>NO</td>\n",
              "      <td>Social Media</td>\n",
              "      <td>NO</td>\n",
              "      <td>NO</td>\n",
              "      <td>Travelling</td>\n",
              "    </tr>\n",
              "    <tr>\n",
              "      <th>...</th>\n",
              "      <td>...</td>\n",
              "      <td>...</td>\n",
              "      <td>...</td>\n",
              "      <td>...</td>\n",
              "      <td>...</td>\n",
              "      <td>...</td>\n",
              "      <td>...</td>\n",
              "      <td>...</td>\n",
              "      <td>...</td>\n",
              "      <td>...</td>\n",
              "      <td>...</td>\n",
              "      <td>...</td>\n",
              "      <td>...</td>\n",
              "      <td>...</td>\n",
              "      <td>...</td>\n",
              "      <td>...</td>\n",
              "      <td>...</td>\n",
              "      <td>...</td>\n",
              "      <td>...</td>\n",
              "    </tr>\n",
              "    <tr>\n",
              "      <th>1177</th>\n",
              "      <td>R1191</td>\n",
              "      <td>Delhi-NCR</td>\n",
              "      <td>12</td>\n",
              "      <td>3.0</td>\n",
              "      <td>Good</td>\n",
              "      <td>Smartphone</td>\n",
              "      <td>4.0</td>\n",
              "      <td>1.0</td>\n",
              "      <td>8.0</td>\n",
              "      <td>1.0</td>\n",
              "      <td>Instagram</td>\n",
              "      <td>2</td>\n",
              "      <td>3</td>\n",
              "      <td>Decreased</td>\n",
              "      <td>NO</td>\n",
              "      <td>Dancing</td>\n",
              "      <td>YES</td>\n",
              "      <td>YES</td>\n",
              "      <td>Travelling</td>\n",
              "    </tr>\n",
              "    <tr>\n",
              "      <th>1178</th>\n",
              "      <td>R1192</td>\n",
              "      <td>Delhi-NCR</td>\n",
              "      <td>14</td>\n",
              "      <td>6.0</td>\n",
              "      <td>Average</td>\n",
              "      <td>Smartphone</td>\n",
              "      <td>4.0</td>\n",
              "      <td>1.0</td>\n",
              "      <td>9.0</td>\n",
              "      <td>1.0</td>\n",
              "      <td>Whatsapp</td>\n",
              "      <td>1</td>\n",
              "      <td>4</td>\n",
              "      <td>Remain Constant</td>\n",
              "      <td>NO</td>\n",
              "      <td>Listening to music</td>\n",
              "      <td>YES</td>\n",
              "      <td>YES</td>\n",
              "      <td>Friends , relatives</td>\n",
              "    </tr>\n",
              "    <tr>\n",
              "      <th>1179</th>\n",
              "      <td>R1193</td>\n",
              "      <td>Delhi-NCR</td>\n",
              "      <td>13</td>\n",
              "      <td>4.0</td>\n",
              "      <td>Average</td>\n",
              "      <td>Smartphone</td>\n",
              "      <td>0.0</td>\n",
              "      <td>0.5</td>\n",
              "      <td>8.0</td>\n",
              "      <td>3.0</td>\n",
              "      <td>Youtube</td>\n",
              "      <td>2</td>\n",
              "      <td>4</td>\n",
              "      <td>Decreased</td>\n",
              "      <td>NO</td>\n",
              "      <td>Online gaming</td>\n",
              "      <td>NO</td>\n",
              "      <td>YES</td>\n",
              "      <td>School/college</td>\n",
              "    </tr>\n",
              "    <tr>\n",
              "      <th>1180</th>\n",
              "      <td>R1194</td>\n",
              "      <td>Delhi-NCR</td>\n",
              "      <td>14</td>\n",
              "      <td>5.0</td>\n",
              "      <td>Excellent</td>\n",
              "      <td>Laptop/Desktop</td>\n",
              "      <td>3.5</td>\n",
              "      <td>1.0</td>\n",
              "      <td>8.0</td>\n",
              "      <td>0.5</td>\n",
              "      <td>Youtube</td>\n",
              "      <td>1</td>\n",
              "      <td>4</td>\n",
              "      <td>Remain Constant</td>\n",
              "      <td>NO</td>\n",
              "      <td>Reading books</td>\n",
              "      <td>YES</td>\n",
              "      <td>YES</td>\n",
              "      <td>School/college</td>\n",
              "    </tr>\n",
              "    <tr>\n",
              "      <th>1181</th>\n",
              "      <td>R1195</td>\n",
              "      <td>Delhi-NCR</td>\n",
              "      <td>13</td>\n",
              "      <td>5.0</td>\n",
              "      <td>Good</td>\n",
              "      <td>Tablet</td>\n",
              "      <td>2.0</td>\n",
              "      <td>0.5</td>\n",
              "      <td>7.0</td>\n",
              "      <td>1.0</td>\n",
              "      <td>Whatsapp</td>\n",
              "      <td>1</td>\n",
              "      <td>3</td>\n",
              "      <td>Remain Constant</td>\n",
              "      <td>NO</td>\n",
              "      <td>Talking</td>\n",
              "      <td>YES</td>\n",
              "      <td>YES</td>\n",
              "      <td>School/college</td>\n",
              "    </tr>\n",
              "  </tbody>\n",
              "</table>\n",
              "<p>1182 rows × 19 columns</p>\n",
              "</div>"
            ],
            "text/plain": [
              "         ID  ... What_you_miss_the_most\n",
              "0        R1  ...         School/college\n",
              "1        R2  ...  Roaming around freely\n",
              "2        R3  ...             Travelling\n",
              "3        R4  ...    Friends , relatives\n",
              "4        R5  ...             Travelling\n",
              "...     ...  ...                    ...\n",
              "1177  R1191  ...             Travelling\n",
              "1178  R1192  ...    Friends , relatives\n",
              "1179  R1193  ...         School/college\n",
              "1180  R1194  ...         School/college\n",
              "1181  R1195  ...         School/college\n",
              "\n",
              "[1182 rows x 19 columns]"
            ]
          },
          "metadata": {},
          "execution_count": 22
        }
      ]
    },
    {
      "cell_type": "markdown",
      "metadata": {
        "id": "vChkRHoa07Fi"
      },
      "source": [
        "We can drop the `ID` column as it's a unique id and it will not make any effect in our analysis. We can do this by creating a copy of our dataframe and original one will be retained."
      ]
    },
    {
      "cell_type": "code",
      "metadata": {
        "id": "beKcApyLhFhU"
      },
      "source": [
        "survey_df = survey_raw_df.copy()"
      ],
      "execution_count": null,
      "outputs": []
    },
    {
      "cell_type": "code",
      "metadata": {
        "id": "hsNzndLMhFhU"
      },
      "source": [
        "survey_df.drop(['ID'], axis=1, inplace =True)"
      ],
      "execution_count": null,
      "outputs": []
    },
    {
      "cell_type": "code",
      "metadata": {
        "colab": {
          "base_uri": "https://localhost:8080/",
          "height": 504
        },
        "id": "46TufNi5hFhV",
        "outputId": "886d11c1-440e-43a2-c0be-3e222fb8be59"
      },
      "source": [
        "survey_df"
      ],
      "execution_count": null,
      "outputs": [
        {
          "output_type": "execute_result",
          "data": {
            "text/html": [
              "<div>\n",
              "<style scoped>\n",
              "    .dataframe tbody tr th:only-of-type {\n",
              "        vertical-align: middle;\n",
              "    }\n",
              "\n",
              "    .dataframe tbody tr th {\n",
              "        vertical-align: top;\n",
              "    }\n",
              "\n",
              "    .dataframe thead th {\n",
              "        text-align: right;\n",
              "    }\n",
              "</style>\n",
              "<table border=\"1\" class=\"dataframe\">\n",
              "  <thead>\n",
              "    <tr style=\"text-align: right;\">\n",
              "      <th></th>\n",
              "      <th>Region_of_residence</th>\n",
              "      <th>Age_of_Subject</th>\n",
              "      <th>Time_spent_on_Online_Class</th>\n",
              "      <th>Rating_of_Online_Class_experience</th>\n",
              "      <th>Medium_for_online_class</th>\n",
              "      <th>Time_spent_on_self_study</th>\n",
              "      <th>Time_spent_on_fitness</th>\n",
              "      <th>Time_spent_on_sleep</th>\n",
              "      <th>Time_spent_on_social_media</th>\n",
              "      <th>Prefered_social_media_platform</th>\n",
              "      <th>Time_spent_on_TV</th>\n",
              "      <th>Number_of_meals_per_day</th>\n",
              "      <th>Change_in_your_weight</th>\n",
              "      <th>Health_issue_during_lockdown</th>\n",
              "      <th>Stress_busters</th>\n",
              "      <th>Time_utilized</th>\n",
              "      <th>Do_you_find_yourself_more_connected_with_your_family,_close_friends_,_relatives__?</th>\n",
              "      <th>What_you_miss_the_most</th>\n",
              "    </tr>\n",
              "  </thead>\n",
              "  <tbody>\n",
              "    <tr>\n",
              "      <th>0</th>\n",
              "      <td>Delhi-NCR</td>\n",
              "      <td>21</td>\n",
              "      <td>2.0</td>\n",
              "      <td>Good</td>\n",
              "      <td>Laptop/Desktop</td>\n",
              "      <td>4.0</td>\n",
              "      <td>0.0</td>\n",
              "      <td>7.0</td>\n",
              "      <td>3.0</td>\n",
              "      <td>Linkedin</td>\n",
              "      <td>1</td>\n",
              "      <td>4</td>\n",
              "      <td>Increased</td>\n",
              "      <td>NO</td>\n",
              "      <td>Cooking</td>\n",
              "      <td>YES</td>\n",
              "      <td>YES</td>\n",
              "      <td>School/college</td>\n",
              "    </tr>\n",
              "    <tr>\n",
              "      <th>1</th>\n",
              "      <td>Delhi-NCR</td>\n",
              "      <td>21</td>\n",
              "      <td>0.0</td>\n",
              "      <td>Excellent</td>\n",
              "      <td>Smartphone</td>\n",
              "      <td>0.0</td>\n",
              "      <td>2.0</td>\n",
              "      <td>10.0</td>\n",
              "      <td>3.0</td>\n",
              "      <td>Youtube</td>\n",
              "      <td>0</td>\n",
              "      <td>3</td>\n",
              "      <td>Decreased</td>\n",
              "      <td>NO</td>\n",
              "      <td>Scrolling through social media</td>\n",
              "      <td>YES</td>\n",
              "      <td>NO</td>\n",
              "      <td>Roaming around freely</td>\n",
              "    </tr>\n",
              "    <tr>\n",
              "      <th>2</th>\n",
              "      <td>Delhi-NCR</td>\n",
              "      <td>20</td>\n",
              "      <td>7.0</td>\n",
              "      <td>Very poor</td>\n",
              "      <td>Laptop/Desktop</td>\n",
              "      <td>3.0</td>\n",
              "      <td>0.0</td>\n",
              "      <td>6.0</td>\n",
              "      <td>2.0</td>\n",
              "      <td>Linkedin</td>\n",
              "      <td>0</td>\n",
              "      <td>3</td>\n",
              "      <td>Remain Constant</td>\n",
              "      <td>NO</td>\n",
              "      <td>Listening to music</td>\n",
              "      <td>NO</td>\n",
              "      <td>YES</td>\n",
              "      <td>Travelling</td>\n",
              "    </tr>\n",
              "    <tr>\n",
              "      <th>3</th>\n",
              "      <td>Delhi-NCR</td>\n",
              "      <td>20</td>\n",
              "      <td>3.0</td>\n",
              "      <td>Very poor</td>\n",
              "      <td>Smartphone</td>\n",
              "      <td>2.0</td>\n",
              "      <td>1.0</td>\n",
              "      <td>6.0</td>\n",
              "      <td>5.0</td>\n",
              "      <td>Instagram</td>\n",
              "      <td>0</td>\n",
              "      <td>3</td>\n",
              "      <td>Decreased</td>\n",
              "      <td>NO</td>\n",
              "      <td>Watching web series</td>\n",
              "      <td>NO</td>\n",
              "      <td>NO</td>\n",
              "      <td>Friends , relatives</td>\n",
              "    </tr>\n",
              "    <tr>\n",
              "      <th>4</th>\n",
              "      <td>Delhi-NCR</td>\n",
              "      <td>21</td>\n",
              "      <td>3.0</td>\n",
              "      <td>Good</td>\n",
              "      <td>Laptop/Desktop</td>\n",
              "      <td>3.0</td>\n",
              "      <td>1.0</td>\n",
              "      <td>8.0</td>\n",
              "      <td>3.0</td>\n",
              "      <td>Instagram</td>\n",
              "      <td>1</td>\n",
              "      <td>4</td>\n",
              "      <td>Remain Constant</td>\n",
              "      <td>NO</td>\n",
              "      <td>Social Media</td>\n",
              "      <td>NO</td>\n",
              "      <td>NO</td>\n",
              "      <td>Travelling</td>\n",
              "    </tr>\n",
              "    <tr>\n",
              "      <th>...</th>\n",
              "      <td>...</td>\n",
              "      <td>...</td>\n",
              "      <td>...</td>\n",
              "      <td>...</td>\n",
              "      <td>...</td>\n",
              "      <td>...</td>\n",
              "      <td>...</td>\n",
              "      <td>...</td>\n",
              "      <td>...</td>\n",
              "      <td>...</td>\n",
              "      <td>...</td>\n",
              "      <td>...</td>\n",
              "      <td>...</td>\n",
              "      <td>...</td>\n",
              "      <td>...</td>\n",
              "      <td>...</td>\n",
              "      <td>...</td>\n",
              "      <td>...</td>\n",
              "    </tr>\n",
              "    <tr>\n",
              "      <th>1177</th>\n",
              "      <td>Delhi-NCR</td>\n",
              "      <td>12</td>\n",
              "      <td>3.0</td>\n",
              "      <td>Good</td>\n",
              "      <td>Smartphone</td>\n",
              "      <td>4.0</td>\n",
              "      <td>1.0</td>\n",
              "      <td>8.0</td>\n",
              "      <td>1.0</td>\n",
              "      <td>Instagram</td>\n",
              "      <td>2</td>\n",
              "      <td>3</td>\n",
              "      <td>Decreased</td>\n",
              "      <td>NO</td>\n",
              "      <td>Dancing</td>\n",
              "      <td>YES</td>\n",
              "      <td>YES</td>\n",
              "      <td>Travelling</td>\n",
              "    </tr>\n",
              "    <tr>\n",
              "      <th>1178</th>\n",
              "      <td>Delhi-NCR</td>\n",
              "      <td>14</td>\n",
              "      <td>6.0</td>\n",
              "      <td>Average</td>\n",
              "      <td>Smartphone</td>\n",
              "      <td>4.0</td>\n",
              "      <td>1.0</td>\n",
              "      <td>9.0</td>\n",
              "      <td>1.0</td>\n",
              "      <td>Whatsapp</td>\n",
              "      <td>1</td>\n",
              "      <td>4</td>\n",
              "      <td>Remain Constant</td>\n",
              "      <td>NO</td>\n",
              "      <td>Listening to music</td>\n",
              "      <td>YES</td>\n",
              "      <td>YES</td>\n",
              "      <td>Friends , relatives</td>\n",
              "    </tr>\n",
              "    <tr>\n",
              "      <th>1179</th>\n",
              "      <td>Delhi-NCR</td>\n",
              "      <td>13</td>\n",
              "      <td>4.0</td>\n",
              "      <td>Average</td>\n",
              "      <td>Smartphone</td>\n",
              "      <td>0.0</td>\n",
              "      <td>0.5</td>\n",
              "      <td>8.0</td>\n",
              "      <td>3.0</td>\n",
              "      <td>Youtube</td>\n",
              "      <td>2</td>\n",
              "      <td>4</td>\n",
              "      <td>Decreased</td>\n",
              "      <td>NO</td>\n",
              "      <td>Online gaming</td>\n",
              "      <td>NO</td>\n",
              "      <td>YES</td>\n",
              "      <td>School/college</td>\n",
              "    </tr>\n",
              "    <tr>\n",
              "      <th>1180</th>\n",
              "      <td>Delhi-NCR</td>\n",
              "      <td>14</td>\n",
              "      <td>5.0</td>\n",
              "      <td>Excellent</td>\n",
              "      <td>Laptop/Desktop</td>\n",
              "      <td>3.5</td>\n",
              "      <td>1.0</td>\n",
              "      <td>8.0</td>\n",
              "      <td>0.5</td>\n",
              "      <td>Youtube</td>\n",
              "      <td>1</td>\n",
              "      <td>4</td>\n",
              "      <td>Remain Constant</td>\n",
              "      <td>NO</td>\n",
              "      <td>Reading books</td>\n",
              "      <td>YES</td>\n",
              "      <td>YES</td>\n",
              "      <td>School/college</td>\n",
              "    </tr>\n",
              "    <tr>\n",
              "      <th>1181</th>\n",
              "      <td>Delhi-NCR</td>\n",
              "      <td>13</td>\n",
              "      <td>5.0</td>\n",
              "      <td>Good</td>\n",
              "      <td>Tablet</td>\n",
              "      <td>2.0</td>\n",
              "      <td>0.5</td>\n",
              "      <td>7.0</td>\n",
              "      <td>1.0</td>\n",
              "      <td>Whatsapp</td>\n",
              "      <td>1</td>\n",
              "      <td>3</td>\n",
              "      <td>Remain Constant</td>\n",
              "      <td>NO</td>\n",
              "      <td>Talking</td>\n",
              "      <td>YES</td>\n",
              "      <td>YES</td>\n",
              "      <td>School/college</td>\n",
              "    </tr>\n",
              "  </tbody>\n",
              "</table>\n",
              "<p>1182 rows × 18 columns</p>\n",
              "</div>"
            ],
            "text/plain": [
              "     Region_of_residence  ...  What_you_miss_the_most\n",
              "0              Delhi-NCR  ...          School/college\n",
              "1              Delhi-NCR  ...   Roaming around freely\n",
              "2              Delhi-NCR  ...              Travelling\n",
              "3              Delhi-NCR  ...     Friends , relatives\n",
              "4              Delhi-NCR  ...              Travelling\n",
              "...                  ...  ...                     ...\n",
              "1177           Delhi-NCR  ...              Travelling\n",
              "1178           Delhi-NCR  ...     Friends , relatives\n",
              "1179           Delhi-NCR  ...          School/college\n",
              "1180           Delhi-NCR  ...          School/college\n",
              "1181           Delhi-NCR  ...          School/college\n",
              "\n",
              "[1182 rows x 18 columns]"
            ]
          },
          "metadata": {},
          "execution_count": 25
        }
      ]
    },
    {
      "cell_type": "markdown",
      "metadata": {
        "id": "S8YiS74shFhW"
      },
      "source": [
        "## **Exploratory Analysis and Visualization**\n",
        "\n",
        "The exploratory analysis will help us to understand how the variables interact and how representative they are.\n"
      ]
    },
    {
      "cell_type": "markdown",
      "metadata": {
        "id": "J8NSR19bhFhW"
      },
      "source": [
        "Let's begin by importing`matplotlib.pyplot` and `seaborn`."
      ]
    },
    {
      "cell_type": "code",
      "metadata": {
        "id": "2vKvtYRthFhW"
      },
      "source": [
        "import seaborn as sns\n",
        "import matplotlib\n",
        "import matplotlib.pyplot as plt\n",
        "import numpy as np\n",
        "%matplotlib inline\n",
        "\n",
        "sns.set_style('darkgrid')\n",
        "matplotlib.rcParams['font.size'] = 14\n",
        "matplotlib.rcParams['figure.figsize'] = (9, 5)\n",
        "matplotlib.rcParams['figure.facecolor'] = '#00000000'"
      ],
      "execution_count": null,
      "outputs": []
    },
    {
      "cell_type": "markdown",
      "metadata": {
        "id": "9AUj7ygnhFhW"
      },
      "source": [
        "### **Region of Residence**"
      ]
    },
    {
      "cell_type": "code",
      "metadata": {
        "colab": {
          "base_uri": "https://localhost:8080/"
        },
        "id": "m0AyRnOS5NIz",
        "outputId": "fc000a83-0edf-4acf-e648-cd7567d9e409"
      },
      "source": [
        "region = survey_df.Region_of_residence.value_counts()\n",
        "region"
      ],
      "execution_count": null,
      "outputs": [
        {
          "output_type": "execute_result",
          "data": {
            "text/plain": [
              "Delhi-NCR            721\n",
              "Outside Delhi-NCR    461\n",
              "Name: Region_of_residence, dtype: int64"
            ]
          },
          "metadata": {},
          "execution_count": 27
        }
      ]
    },
    {
      "cell_type": "code",
      "metadata": {
        "id": "0q4kWY895sYZ",
        "colab": {
          "base_uri": "https://localhost:8080/"
        },
        "outputId": "25c37731-7c5a-40dc-c73b-7f3e3181abed"
      },
      "source": [
        "region_per = region / len(survey_df.Region_of_residence) * 100\n",
        "region_per"
      ],
      "execution_count": null,
      "outputs": [
        {
          "output_type": "execute_result",
          "data": {
            "text/plain": [
              "Delhi-NCR            60.998308\n",
              "Outside Delhi-NCR    39.001692\n",
              "Name: Region_of_residence, dtype: float64"
            ]
          },
          "metadata": {},
          "execution_count": 28
        }
      ]
    },
    {
      "cell_type": "code",
      "metadata": {
        "colab": {
          "base_uri": "https://localhost:8080/",
          "height": 377
        },
        "id": "bjExmUdy3x0r",
        "outputId": "e0628db0-f350-4a9b-9b16-7ed17778ea67"
      },
      "source": [
        "plt.figure(figsize=(12,6))\n",
        "plt.title('Region of Residence of respondents')\n",
        "plt.pie(region_per, labels=region_per.index, autopct='%1.2f%%', startangle=180);"
      ],
      "execution_count": null,
      "outputs": [
        {
          "output_type": "display_data",
          "data": {
            "image/png": "[encoded data removed]",
            "text/plain": [
              "<Figure size 864x432 with 1 Axes>"
            ]
          },
          "metadata": {}
        }
      ]
    },
    {
      "cell_type": "markdown",
      "metadata": {
        "id": "sqgccOEl7RoH"
      },
      "source": [
        "In our data, 61% are from Delhi-NCR and others are from Outside of Delhi-NCR"
      ]
    },
    {
      "cell_type": "markdown",
      "metadata": {
        "id": "ZGf1ikVfFCVC"
      },
      "source": [
        "### **Age range of respondents**"
      ]
    },
    {
      "cell_type": "code",
      "metadata": {
        "colab": {
          "base_uri": "https://localhost:8080/"
        },
        "id": "pwAfafB8HYWi",
        "outputId": "7432ac5b-8f46-474e-e17c-5a0fd5281f5d"
      },
      "source": [
        "top_ages = survey_df.Age_of_Subject.value_counts().head(10)\n",
        "top_ages"
      ],
      "execution_count": null,
      "outputs": [
        {
          "output_type": "execute_result",
          "data": {
            "text/plain": [
              "20    211\n",
              "21    188\n",
              "19    138\n",
              "22     93\n",
              "16     67\n",
              "18     66\n",
              "17     58\n",
              "13     48\n",
              "14     48\n",
              "23     44\n",
              "Name: Age_of_Subject, dtype: int64"
            ]
          },
          "metadata": {},
          "execution_count": 31
        }
      ]
    },
    {
      "cell_type": "code",
      "metadata": {
        "colab": {
          "base_uri": "https://localhost:8080/",
          "height": 505
        },
        "id": "6M8wZTPmhFhX",
        "outputId": "ccb4fa2f-9486-496f-8652-cce6507c2557"
      },
      "source": [
        "plt.figure(figsize=(12, 8))\n",
        "plt.xlabel('Age')\n",
        "plt.ylabel('Number of respondents')\n",
        "\n",
        "plt.hist(survey_df.Age_of_Subject, np.arange(5,60,5), color='purple');"
      ],
      "execution_count": null,
      "outputs": [
        {
          "output_type": "display_data",
          "data": {
            "image/png": "[encoded data removed]",
            "text/plain": [
              "<Figure size 864x576 with 1 Axes>"
            ]
          },
          "metadata": {
            "needs_background": "light"
          }
        }
      ]
    },
    {
      "cell_type": "markdown",
      "metadata": {
        "id": "351IIgEMGMDC"
      },
      "source": [
        "Most of our respondents are in between the age of 15-25"
      ]
    },
    {
      "cell_type": "markdown",
      "metadata": {
        "id": "XwjVxtvphFhX"
      },
      "source": [
        "### **Rating of Online Class Experience**"
      ]
    },
    {
      "cell_type": "code",
      "metadata": {
        "colab": {
          "base_uri": "https://localhost:8080/"
        },
        "id": "cT3nOX7AJEON",
        "outputId": "6d79874d-3f83-44ea-ea60-3bd9e240b375"
      },
      "source": [
        "Rating_of_Online_Class = survey_df.Rating_of_Online_Class_experience.value_counts()\n",
        "Rating_of_Online_Class"
      ],
      "execution_count": null,
      "outputs": [
        {
          "output_type": "execute_result",
          "data": {
            "text/plain": [
              "Very poor    413\n",
              "Average      387\n",
              "Good         230\n",
              "Excellent     98\n",
              "Poor          30\n",
              "Name: Rating_of_Online_Class_experience, dtype: int64"
            ]
          },
          "metadata": {},
          "execution_count": 33
        }
      ]
    },
    {
      "cell_type": "code",
      "metadata": {
        "id": "S2KC59hAhFhY",
        "colab": {
          "base_uri": "https://localhost:8080/",
          "height": 377
        },
        "outputId": "2c9760e9-2f6b-432d-f087-9111970f6467"
      },
      "source": [
        "plt.figure(figsize=(12,6))\n",
        "plt.title('Rating of Online class Experience')\n",
        "plt.pie(Rating_of_Online_Class, labels=Rating_of_Online_Class.index, autopct='%1.2f%%');"
      ],
      "execution_count": null,
      "outputs": [
        {
          "output_type": "display_data",
          "data": {
            "image/png": "[encoded data removed]",
            "text/plain": [
              "<Figure size 864x432 with 1 Axes>"
            ]
          },
          "metadata": {}
        }
      ]
    },
    {
      "cell_type": "markdown",
      "metadata": {
        "id": "qYJTzM-TJwsu"
      },
      "source": [
        "35.66% says that quality of online class very poor, 33.42% says average while only 19.86% says that online class experience is good."
      ]
    },
    {
      "cell_type": "markdown",
      "metadata": {
        "id": "mVwyKAp_hFhX"
      },
      "source": [
        "### **Health Issues during lockdown**"
      ]
    },
    {
      "cell_type": "code",
      "metadata": {
        "id": "SjOnNjeshFhY",
        "colab": {
          "base_uri": "https://localhost:8080/"
        },
        "outputId": "2f6b2833-4787-412d-af6e-c031bdd6a50e"
      },
      "source": [
        "Health_issues = survey_df.Health_issue_during_lockdown.value_counts()\n",
        "Health_issues"
      ],
      "execution_count": null,
      "outputs": [
        {
          "output_type": "execute_result",
          "data": {
            "text/plain": [
              "NO     1021\n",
              "YES     161\n",
              "Name: Health_issue_during_lockdown, dtype: int64"
            ]
          },
          "metadata": {},
          "execution_count": 59
        }
      ]
    },
    {
      "cell_type": "code",
      "metadata": {
        "id": "2ih1rxpyhFhY",
        "colab": {
          "base_uri": "https://localhost:8080/",
          "height": 377
        },
        "outputId": "59fa6a0b-e6a1-4614-f91f-377371acec8b"
      },
      "source": [
        "plt.figure(figsize=(12,6))\n",
        "plt.title('Health issues during lockdown')\n",
        "plt.pie(Health_issues, labels=Health_issues.index, autopct='%1.2f%%', startangle=180);"
      ],
      "execution_count": null,
      "outputs": [
        {
          "output_type": "display_data",
          "data": {
            "image/png": "[encoded data removed]",
            "text/plain": [
              "<Figure size 864x432 with 1 Axes>"
            ]
          },
          "metadata": {}
        }
      ]
    },
    {
      "cell_type": "markdown",
      "metadata": {
        "id": "cCjNXU9GhFhZ"
      },
      "source": [
        "## **Asking and Answering Questions**\n",
        "\n"
      ]
    },
    {
      "cell_type": "markdown",
      "metadata": {
        "id": "S1T98PcrhFhZ"
      },
      "source": [
        "#### **Q1:What are the top 10 Stress busters?**"
      ]
    },
    {
      "cell_type": "code",
      "metadata": {
        "id": "m_PRFFYchFha",
        "colab": {
          "base_uri": "https://localhost:8080/"
        },
        "outputId": "d67c3bf1-46a8-46b4-f316-12b9d1a0449a"
      },
      "source": [
        "top_stress_busters = survey_df.Stress_busters.value_counts().head(10)\n",
        "top_stress_busters"
      ],
      "execution_count": null,
      "outputs": [
        {
          "output_type": "execute_result",
          "data": {
            "text/plain": [
              "Listening to music                276\n",
              "Online gaming                     175\n",
              "Watching web series               102\n",
              "Reading books                      77\n",
              "Scrolling through social media     74\n",
              "Sleeping                           71\n",
              "Online surfing                     51\n",
              "Meditation                         48\n",
              "Cooking                            41\n",
              "Talking to your relatives          37\n",
              "Name: Stress_busters, dtype: int64"
            ]
          },
          "metadata": {},
          "execution_count": 42
        }
      ]
    },
    {
      "cell_type": "code",
      "metadata": {
        "id": "-wRne4wHhFha",
        "colab": {
          "base_uri": "https://localhost:8080/",
          "height": 416
        },
        "outputId": "490e4659-5ea8-469e-96aa-b8e2f7b48273"
      },
      "source": [
        "plt.figure(figsize=(12,6))\n",
        "plt.title(\"Top 10 Stress busters\")\n",
        "sns.barplot(x=top_stress_busters, y=top_stress_busters.index);"
      ],
      "execution_count": null,
      "outputs": [
        {
          "output_type": "display_data",
          "data": {
            "image/png": "[encoded data removed]",
            "text/plain": [
              "<Figure size 864x432 with 1 Axes>"
            ]
          },
          "metadata": {
            "needs_background": "light"
          }
        }
      ]
    },
    {
      "cell_type": "markdown",
      "metadata": {
        "id": "rHjNIsRp3KD3"
      },
      "source": [
        "Most voted stress busters are listening to music, online gaming and watching web series."
      ]
    },
    {
      "cell_type": "markdown",
      "metadata": {
        "id": "rr9rKt8fhFha"
      },
      "source": [
        "#### **Q2: What are the available medium for online classes?**"
      ]
    },
    {
      "cell_type": "code",
      "metadata": {
        "id": "vJ-IUBzbhFha",
        "colab": {
          "base_uri": "https://localhost:8080/"
        },
        "outputId": "54145510-ac0b-4489-a7cc-0031b28efd39"
      },
      "source": [
        "medium_class = survey_df.Medium_for_online_class.value_counts() \n",
        "medium_class"
      ],
      "execution_count": null,
      "outputs": [
        {
          "output_type": "execute_result",
          "data": {
            "text/plain": [
              "Laptop/Desktop                  545\n",
              "Smartphone                      539\n",
              "Tablet                           37\n",
              "Any Gadget                        5\n",
              "Smartphone or Laptop/Desktop      5\n",
              "Name: Medium_for_online_class, dtype: int64"
            ]
          },
          "metadata": {},
          "execution_count": 44
        }
      ]
    },
    {
      "cell_type": "code",
      "metadata": {
        "colab": {
          "base_uri": "https://localhost:8080/",
          "height": 818
        },
        "id": "YXdQqtwT4y4p",
        "outputId": "f827189f-393a-47d9-b1dc-7d6c1392ecba"
      },
      "source": [
        "plt.figure(figsize=(10,10))\n",
        "plt.xticks(rotation=75)\n",
        "plt.title(\"Medium for Online Class\")\n",
        "sns.barplot(x=medium_class.index, y=medium_class);"
      ],
      "execution_count": null,
      "outputs": [
        {
          "output_type": "display_data",
          "data": {
            "image/png": "[encoded data removed]",
            "text/plain": [
              "<Figure size 720x720 with 1 Axes>"
            ]
          },
          "metadata": {
            "needs_background": "light"
          }
        }
      ]
    },
    {
      "cell_type": "markdown",
      "metadata": {
        "id": "bDKQX2IghFha"
      },
      "source": [
        "#### **Q3: Between the age of 18 - 25, what percentage are facing health issues during lockdown?**"
      ]
    },
    {
      "cell_type": "code",
      "metadata": {
        "id": "Rx8f56EOKp8X"
      },
      "source": [
        "between_age_df = survey_df[(survey_df.Age_of_Subject >=18) & (survey_df.Age_of_Subject <=25)]"
      ],
      "execution_count": null,
      "outputs": []
    },
    {
      "cell_type": "code",
      "metadata": {
        "colab": {
          "base_uri": "https://localhost:8080/"
        },
        "id": "fmlVv1KcLiKv",
        "outputId": "ec9834c2-a412-48bb-995e-ccb0344305ba"
      },
      "source": [
        "between_age_df.Health_issue_during_lockdown.value_counts()"
      ],
      "execution_count": null,
      "outputs": [
        {
          "output_type": "execute_result",
          "data": {
            "text/plain": [
              "NO     639\n",
              "YES    136\n",
              "Name: Health_issue_during_lockdown, dtype: int64"
            ]
          },
          "metadata": {},
          "execution_count": 47
        }
      ]
    },
    {
      "cell_type": "code",
      "metadata": {
        "colab": {
          "base_uri": "https://localhost:8080/"
        },
        "id": "ZbGBfIwZMT6D",
        "outputId": "0ed95781-4e5a-446e-89e5-dd948e646605"
      },
      "source": [
        "per_health_issues = between_age_df.Health_issue_during_lockdown.value_counts()/between_age_df.Health_issue_during_lockdown.count() *100\n",
        "per_health_issues"
      ],
      "execution_count": null,
      "outputs": [
        {
          "output_type": "execute_result",
          "data": {
            "text/plain": [
              "NO     82.451613\n",
              "YES    17.548387\n",
              "Name: Health_issue_during_lockdown, dtype: float64"
            ]
          },
          "metadata": {},
          "execution_count": 48
        }
      ]
    },
    {
      "cell_type": "code",
      "metadata": {
        "colab": {
          "base_uri": "https://localhost:8080/",
          "height": 377
        },
        "id": "aCahcoqzYAAr",
        "outputId": "d4d14070-1551-4a7d-cad3-d7861a03550b"
      },
      "source": [
        "plt.figure(figsize=(12,6))\n",
        "plt.title('Health issues during lockdown')\n",
        "plt.pie(per_health_issues, labels=per_health_issues.index, autopct='%1.2f%%', startangle=180);"
      ],
      "execution_count": null,
      "outputs": [
        {
          "output_type": "display_data",
          "data": {
            "image/png": "[encoded data removed]",
            "text/plain": [
              "<Figure size 864x432 with 1 Axes>"
            ]
          },
          "metadata": {}
        }
      ]
    },
    {
      "cell_type": "markdown",
      "metadata": {
        "id": "CuuApK4BJxJm"
      },
      "source": [
        "Between the age of 18-25, 17.55% faced health issues during lockdown which is higher than the overall percentage in our data(13.62%)."
      ]
    },
    {
      "cell_type": "markdown",
      "metadata": {
        "id": "HByr_DLRhFhb"
      },
      "source": [
        "#### **Q4: What are the most commonly used social media platforms?**"
      ]
    },
    {
      "cell_type": "code",
      "metadata": {
        "id": "aaQ1azKRhFhb",
        "colab": {
          "base_uri": "https://localhost:8080/"
        },
        "outputId": "70d6d96c-bed3-44ba-c1ec-2e1f03a527c7"
      },
      "source": [
        "top_social_media = survey_df.Prefered_social_media_platform.value_counts().head(5)\n",
        "top_social_media"
      ],
      "execution_count": null,
      "outputs": [
        {
          "output_type": "execute_result",
          "data": {
            "text/plain": [
              "Instagram    352\n",
              "Whatsapp     336\n",
              "Youtube      314\n",
              "Linkedin      61\n",
              "Facebook      52\n",
              "Name: Prefered_social_media_platform, dtype: int64"
            ]
          },
          "metadata": {},
          "execution_count": 50
        }
      ]
    },
    {
      "cell_type": "code",
      "metadata": {
        "colab": {
          "base_uri": "https://localhost:8080/",
          "height": 416
        },
        "id": "DI8WW8H9Gg65",
        "outputId": "f8ef38d7-b298-480e-f783-8f0c8ae3c6b9"
      },
      "source": [
        "plt.figure(figsize=(12,6))\n",
        "plt.title(\"Top 5 Social Media\")\n",
        "sns.barplot(x=top_social_media, y=top_social_media.index);"
      ],
      "execution_count": null,
      "outputs": [
        {
          "output_type": "display_data",
          "data": {
            "image/png": "[encoded data removed]",
            "text/plain": [
              "<Figure size 864x432 with 1 Axes>"
            ]
          },
          "metadata": {
            "needs_background": "light"
          }
        }
      ]
    },
    {
      "cell_type": "markdown",
      "metadata": {
        "id": "8Ak-6G95HlAb"
      },
      "source": [
        "Most commonly used social media platforms are Instagram, Whatsapp, Youtube respectively."
      ]
    },
    {
      "cell_type": "markdown",
      "metadata": {
        "id": "u3A9CGMohFhb"
      },
      "source": [
        "#### **How is change in weight depends on different parameters?**"
      ]
    },
    {
      "cell_type": "code",
      "metadata": {
        "id": "BhULJjCshFha",
        "colab": {
          "base_uri": "https://localhost:8080/",
          "height": 416
        },
        "outputId": "06118943-5c69-44c0-d5ce-4b694b365a62"
      },
      "source": [
        "plt.figure(figsize=(16,6))\n",
        "sns.barplot(x='Time_spent_on_social_media', y='Time_spent_on_fitness', data=survey_df, hue=survey_df.Change_in_your_weight)\n",
        "plt.title('Change in weight on different parameters')\n",
        "plt.ylabel('Time spent on fitness')\n",
        "plt.xlabel('Time spent on social media');"
      ],
      "execution_count": null,
      "outputs": [
        {
          "output_type": "display_data",
          "data": {
            "image/png": "[encoded data removed]",
            "text/plain": [
              "<Figure size 1152x432 with 1 Axes>"
            ]
          },
          "metadata": {
            "needs_background": "light"
          }
        }
      ]
    },
    {
      "cell_type": "code",
      "metadata": {
        "id": "u7CGxqzChFhb",
        "colab": {
          "base_uri": "https://localhost:8080/",
          "height": 416
        },
        "outputId": "d8751d36-8ed1-46f6-a37f-79ef6fa6aa20"
      },
      "source": [
        "plt.figure(figsize=(16,6))\n",
        "sns.barplot(x='Time_spent_on_social_media', y='Time_spent_on_sleep', data=survey_df, hue=survey_df.Change_in_your_weight)\n",
        "plt.title('Change in weight on different parameters')\n",
        "plt.ylabel('Time spent on sleep')\n",
        "plt.xlabel('Time spent on social media');"
      ],
      "execution_count": null,
      "outputs": [
        {
          "output_type": "display_data",
          "data": {
            "image/png": "[encoded data removed]",
            "text/plain": [
              "<Figure size 1152x432 with 1 Axes>"
            ]
          },
          "metadata": {
            "needs_background": "light"
          }
        }
      ]
    },
    {
      "cell_type": "code",
      "metadata": {
        "id": "Iz-YTQmUhFhb",
        "colab": {
          "base_uri": "https://localhost:8080/",
          "height": 416
        },
        "outputId": "afec8b7c-1794-4377-e8ca-bdc3609b4a22"
      },
      "source": [
        "plt.figure(figsize=(16,6))\n",
        "sns.barplot(x='Time_spent_on_social_media', y='Time_spent_on_Online_Class', data=survey_df, hue=survey_df.Change_in_your_weight)\n",
        "plt.title('Change in weight on different parameters')\n",
        "plt.ylabel('Time spent on Online Class')\n",
        "plt.xlabel('Time spent on social media');"
      ],
      "execution_count": null,
      "outputs": [
        {
          "output_type": "display_data",
          "data": {
            "image/png": "[encoded data removed]",
            "text/plain": [
              "<Figure size 1152x432 with 1 Axes>"
            ]
          },
          "metadata": {
            "needs_background": "light"
          }
        }
      ]
    },
    {
      "cell_type": "markdown",
      "metadata": {
        "id": "sSEmFkxwhFhc"
      },
      "source": [
        "## **Inferences and Conclusion**\n",
        "The outbreak of COVID-19 and related lockdown had serious implications on lifestyle of students, mental health etc..\n",
        "\n",
        "From the analysis, rating of online class is very low. 35.66% says that quality is very poor, and for 33.42% quality is average.\n",
        "This study suggests that public authorities should take all the necessary measures to enhance the learning experience by mitigating the negative impacts caused due to the COVID-19 outbreak."
      ]
    },
    {
      "cell_type": "markdown",
      "metadata": {
        "id": "cNFZ-1Iu0JLn"
      },
      "source": [
        "\n",
        "Libraries used in this project: \n",
        "* [Pandas](https://pandas.pydata.org/docs/user_guide/index.html) : A software library written for the Python programming language for data manipulation and analysis.\n",
        "* [Numpy](https://numpy.org/doc/stable/user/index.html) : A library for the Python programming language, adding support for large, multi-dimensional arrays and matrices, along with a large collection of high-level mathematical functions to operate on these arrays. \n",
        "* [Matplotlib](https://matplotlib.org/) : A plotting library for the Python programming language and its numerical mathematics extension NumPy.\n",
        "* [Seaborn](https://seaborn.pydata.org/) : A Python data visualization library based on matplotlib. It provides a high-level interface for drawing attractive and informative statistical graphics."
      ]
    }
  ]
}